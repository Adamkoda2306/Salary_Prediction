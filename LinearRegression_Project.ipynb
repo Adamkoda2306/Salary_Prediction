{
  "nbformat": 4,
  "nbformat_minor": 0,
  "metadata": {
    "colab": {
      "provenance": [],
      "authorship_tag": "ABX9TyMuVpKn1UFng8QydZeM9N1V",
      "include_colab_link": true
    },
    "kernelspec": {
      "name": "python3",
      "display_name": "Python 3"
    },
    "language_info": {
      "name": "python"
    }
  },
  "cells": [
    {
      "cell_type": "markdown",
      "metadata": {
        "id": "view-in-github",
        "colab_type": "text"
      },
      "source": [
        "<a href=\"https://colab.research.google.com/github/Adamkoda2306/Salary_Prediction/blob/main/LinearRegression_Project.ipynb\" target=\"_parent\"><img src=\"https://colab.research.google.com/assets/colab-badge.svg\" alt=\"Open In Colab\"/></a>"
      ]
    },
    {
      "cell_type": "markdown",
      "source": [
        "# ***Linear Regression Model:***"
      ],
      "metadata": {
        "id": "65kemBlLp5xW"
      }
    },
    {
      "cell_type": "markdown",
      "source": [
        "# **Installing Libraries**"
      ],
      "metadata": {
        "id": "hvBTfjgjp-t1"
      }
    },
    {
      "cell_type": "code",
      "execution_count": null,
      "metadata": {
        "colab": {
          "base_uri": "https://localhost:8080/"
        },
        "id": "zOTMUeqTpQm5",
        "outputId": "78b27160-4079-4669-8b54-98dadfb7aaea"
      },
      "outputs": [
        {
          "output_type": "stream",
          "name": "stdout",
          "text": [
            "Requirement already satisfied: numpy in /usr/local/lib/python3.10/dist-packages (1.26.4)\n",
            "Requirement already satisfied: pandas in /usr/local/lib/python3.10/dist-packages (2.2.2)\n",
            "Requirement already satisfied: matplotlib in /usr/local/lib/python3.10/dist-packages (3.8.0)\n",
            "Requirement already satisfied: seaborn in /usr/local/lib/python3.10/dist-packages (0.13.2)\n",
            "Requirement already satisfied: scikit-learn in /usr/local/lib/python3.10/dist-packages (1.6.0)\n",
            "Requirement already satisfied: joblib in /usr/local/lib/python3.10/dist-packages (1.4.2)\n",
            "Requirement already satisfied: python-dateutil>=2.8.2 in /usr/local/lib/python3.10/dist-packages (from pandas) (2.8.2)\n",
            "Requirement already satisfied: pytz>=2020.1 in /usr/local/lib/python3.10/dist-packages (from pandas) (2024.2)\n",
            "Requirement already satisfied: tzdata>=2022.7 in /usr/local/lib/python3.10/dist-packages (from pandas) (2024.2)\n",
            "Requirement already satisfied: contourpy>=1.0.1 in /usr/local/lib/python3.10/dist-packages (from matplotlib) (1.3.1)\n",
            "Requirement already satisfied: cycler>=0.10 in /usr/local/lib/python3.10/dist-packages (from matplotlib) (0.12.1)\n",
            "Requirement already satisfied: fonttools>=4.22.0 in /usr/local/lib/python3.10/dist-packages (from matplotlib) (4.55.3)\n",
            "Requirement already satisfied: kiwisolver>=1.0.1 in /usr/local/lib/python3.10/dist-packages (from matplotlib) (1.4.7)\n",
            "Requirement already satisfied: packaging>=20.0 in /usr/local/lib/python3.10/dist-packages (from matplotlib) (24.2)\n",
            "Requirement already satisfied: pillow>=6.2.0 in /usr/local/lib/python3.10/dist-packages (from matplotlib) (11.0.0)\n",
            "Requirement already satisfied: pyparsing>=2.3.1 in /usr/local/lib/python3.10/dist-packages (from matplotlib) (3.2.0)\n",
            "Requirement already satisfied: scipy>=1.6.0 in /usr/local/lib/python3.10/dist-packages (from scikit-learn) (1.13.1)\n",
            "Requirement already satisfied: threadpoolctl>=3.1.0 in /usr/local/lib/python3.10/dist-packages (from scikit-learn) (3.5.0)\n",
            "Requirement already satisfied: six>=1.5 in /usr/local/lib/python3.10/dist-packages (from python-dateutil>=2.8.2->pandas) (1.17.0)\n"
          ]
        }
      ],
      "source": [
        "!pip install numpy pandas matplotlib seaborn scikit-learn joblib"
      ]
    },
    {
      "cell_type": "markdown",
      "source": [
        "# **Importing Libraries**"
      ],
      "metadata": {
        "id": "38Jkk1oIqGdG"
      }
    },
    {
      "cell_type": "code",
      "source": [
        "import numpy as np\n",
        "import pandas as pd\n",
        "import matplotlib.pyplot as plt\n",
        "import joblib\n",
        "from sklearn.model_selection import train_test_split\n",
        "from sklearn.linear_model import LinearRegression\n",
        "from sklearn.metrics import mean_squared_error, r2_score"
      ],
      "metadata": {
        "id": "0pNGOYt5qJKt"
      },
      "execution_count": null,
      "outputs": []
    },
    {
      "cell_type": "markdown",
      "source": [
        "# **Loading the Dataset**"
      ],
      "metadata": {
        "id": "edWX6Pd_qMel"
      }
    },
    {
      "cell_type": "code",
      "source": [
        "dataset = pd.read_csv('Salary_dataset.csv')\n",
        "\n",
        "print(\"Dataset Overview:\")\n",
        "print(dataset.head())\n",
        "\n",
        "print(\"\\nMissing Values:\")\n",
        "print(dataset.isnull().sum())"
      ],
      "metadata": {
        "colab": {
          "base_uri": "https://localhost:8080/"
        },
        "id": "DQ9vuh_oqQWU",
        "outputId": "0cca00c6-5aab-4f9c-ac9a-81ff0bfd299d"
      },
      "execution_count": null,
      "outputs": [
        {
          "output_type": "stream",
          "name": "stdout",
          "text": [
            "Dataset Overview:\n",
            "   Age  Gender Education Level          Job Title  Years of Experience  Salary\n",
            "0   32    Male      Bachelor's  Software Engineer                    5   90000\n",
            "1   28  Female        Master's       Data Analyst                    3   65000\n",
            "2   45    Male             PhD     Senior Manager                   15  150000\n",
            "3   36  Female      Bachelor's    Sales Associate                    7   60000\n",
            "4   52    Male        Master's           Director                   20  200000\n",
            "\n",
            "Missing Values:\n",
            "Age                    0\n",
            "Gender                 0\n",
            "Education Level        0\n",
            "Job Title              0\n",
            "Years of Experience    0\n",
            "Salary                 0\n",
            "dtype: int64\n"
          ]
        }
      ]
    },
    {
      "cell_type": "markdown",
      "source": [
        "# **Removing Unneccesary columns and rows**"
      ],
      "metadata": {
        "id": "ci9Li1LDqV-c"
      }
    },
    {
      "cell_type": "code",
      "source": [
        "columns_to_keep = ['Years of Experience', 'Salary']\n",
        "dataset = dataset[columns_to_keep]\n",
        "dataset = dataset.dropna()\n",
        "\n",
        "print(\"\\nUpdated Dataset:\")\n",
        "print(dataset)"
      ],
      "metadata": {
        "colab": {
          "base_uri": "https://localhost:8080/"
        },
        "id": "RYF24BWnqeMM",
        "outputId": "ac1c7242-3cc4-4469-a393-b8eecfc15e4a"
      },
      "execution_count": null,
      "outputs": [
        {
          "output_type": "stream",
          "name": "stdout",
          "text": [
            "\n",
            "Updated Dataset:\n",
            "       Years of Experience  Salary\n",
            "0                        5   90000\n",
            "1                        3   65000\n",
            "2                       15  150000\n",
            "3                        7   60000\n",
            "4                       20  200000\n",
            "...                    ...     ...\n",
            "39995                    7   79380\n",
            "39996                   21  179318\n",
            "39997                   23  183679\n",
            "39998                    6   85140\n",
            "39999                   23  194361\n",
            "\n",
            "[40000 rows x 2 columns]\n"
          ]
        }
      ]
    },
    {
      "cell_type": "markdown",
      "source": [
        "# **Visualizing the Data**"
      ],
      "metadata": {
        "id": "Um0TbaERq5Y0"
      }
    },
    {
      "cell_type": "code",
      "source": [
        "plt.scatter(dataset['Years of Experience'], dataset['Salary'], color='blue', alpha=0.6)\n",
        "plt.title(\"Years of Experience vs Salary\")\n",
        "plt.xlabel(\"Years of Experience\")\n",
        "plt.ylabel(\"Salary\")\n",
        "plt.show()"
      ],
      "metadata": {
        "colab": {
          "base_uri": "https://localhost:8080/",
          "height": 472
        },
        "id": "t6XJz8WFq7_U",
        "outputId": "86ad016b-d2f2-4cc1-be1c-be04c21429f6"
      },
      "execution_count": null,
      "outputs": [
        {
          "output_type": "display_data",
          "data": {
            "text/plain": [
              "<Figure size 640x480 with 1 Axes>"
            ],
            "image/png": "[encoded data removed]"
          },
          "metadata": {}
        }
      ]
    },
    {
      "cell_type": "markdown",
      "source": [
        "# **Feature and Target**"
      ],
      "metadata": {
        "id": "emTnVPRKrT4c"
      }
    },
    {
      "cell_type": "code",
      "source": [
        "X = dataset[['Years of Experience']]\n",
        "y = dataset['Salary']\n",
        "\n",
        "X_train, X_test, y_train, y_test = train_test_split(X, y, test_size=0.2, random_state=42)\n",
        "print(f\"Number of training samples: {len(X_train)}\")\n",
        "print(f\"Number of testing samples: {len(X_test)}\")"
      ],
      "metadata": {
        "colab": {
          "base_uri": "https://localhost:8080/"
        },
        "id": "PP8fFS9lrXes",
        "outputId": "6ef3a42e-84dd-453d-dc56-04dcf2dd99b3"
      },
      "execution_count": null,
      "outputs": [
        {
          "output_type": "stream",
          "name": "stdout",
          "text": [
            "Number of training samples: 32000\n",
            "Number of testing samples: 8000\n"
          ]
        }
      ]
    },
    {
      "cell_type": "markdown",
      "source": [
        "# **Training and Testing Linear Regression Model**"
      ],
      "metadata": {
        "id": "3Vl1EW7zrdvz"
      }
    },
    {
      "cell_type": "code",
      "source": [
        "model = LinearRegression()\n",
        "model.fit(X_train, y_train)\n",
        "\n",
        "# Print model coefficients\n",
        "print(\"\\nModel Coefficients:\")\n",
        "print(\"Intercept:\", model.intercept_)\n",
        "print(\"Coefficient:\", model.coef_)\n",
        "\n",
        "# Make predictions\n",
        "y_pred = model.predict(X_test)"
      ],
      "metadata": {
        "colab": {
          "base_uri": "https://localhost:8080/"
        },
        "id": "O0PER-19rmeL",
        "outputId": "7e75b405-e1d9-4939-a32a-c34f8cd9e69b"
      },
      "execution_count": null,
      "outputs": [
        {
          "output_type": "stream",
          "name": "stdout",
          "text": [
            "\n",
            "Model Coefficients:\n",
            "Intercept: 33329.86677473251\n",
            "Coefficient: [6698.65725159]\n"
          ]
        }
      ]
    },
    {
      "cell_type": "markdown",
      "source": [
        "# **Evaluate the Model**"
      ],
      "metadata": {
        "id": "nGzVpwozrrLL"
      }
    },
    {
      "cell_type": "code",
      "source": [
        "mse = mean_squared_error(y_test, y_pred)\n",
        "r2 = r2_score(y_test, y_pred)\n",
        "\n",
        "print(\"\\nModel Evaluation:\")\n",
        "print(\"Mean Squared Error:\", mse)\n",
        "print(\"R-squared:\", r2)\n",
        "print(\"Accuracy: \", r2*100)"
      ],
      "metadata": {
        "colab": {
          "base_uri": "https://localhost:8080/"
        },
        "id": "GTV8PSXhrtg7",
        "outputId": "733472d0-1ea6-4d04-c506-02008db0e2cb"
      },
      "execution_count": null,
      "outputs": [
        {
          "output_type": "stream",
          "name": "stdout",
          "text": [
            "\n",
            "Model Evaluation:\n",
            "Mean Squared Error: 37643904.855841905\n",
            "R-squared: 0.9842258325874846\n",
            "Accuracy:  98.42258325874846\n"
          ]
        }
      ]
    },
    {
      "cell_type": "markdown",
      "source": [
        "# **Visualize the Regression Line**"
      ],
      "metadata": {
        "id": "T1i7i0cewx0m"
      }
    },
    {
      "cell_type": "code",
      "source": [
        "plt.scatter(X, y, color='blue', alpha=0.6, label='Actual Data')\n",
        "plt.plot(X, model.predict(X), color='red', label='Regression Line')\n",
        "plt.title(\"Years of Experience vs Salary with Regression Line\")\n",
        "plt.xlabel(\"Years of Experience\")\n",
        "plt.ylabel(\"Salary\")\n",
        "plt.legend()\n",
        "plt.show()"
      ],
      "metadata": {
        "colab": {
          "base_uri": "https://localhost:8080/",
          "height": 472
        },
        "id": "i9Ec166ww06u",
        "outputId": "f1cc85d3-fa99-4df8-9fc2-9105abe4a4b8"
      },
      "execution_count": null,
      "outputs": [
        {
          "output_type": "display_data",
          "data": {
            "text/plain": [
              "<Figure size 640x480 with 1 Axes>"
            ],
            "image/png": "[encoded data removed]"
          },
          "metadata": {}
        }
      ]
    },
    {
      "cell_type": "markdown",
      "source": [
        "# **Save the Model**"
      ],
      "metadata": {
        "id": "1CH7DfvmxFJN"
      }
    },
    {
      "cell_type": "code",
      "source": [
        "# Save the model\n",
        "import joblib\n",
        "joblib.dump(model, \"salary_predict_model.pkl\")\n",
        "print(\"Model saved as 'salary_predict_model.pkl'\")"
      ],
      "metadata": {
        "colab": {
          "base_uri": "https://localhost:8080/"
        },
        "id": "pTFdi3-zxHMF",
        "outputId": "03e3e29e-595e-46f5-e376-0dfc91f77521"
      },
      "execution_count": null,
      "outputs": [
        {
          "output_type": "stream",
          "name": "stdout",
          "text": [
            "Model saved as 'salary_predict_model.pkl'\n"
          ]
        }
      ]
    },
    {
      "cell_type": "markdown",
      "source": [
        "## **Download the Model**"
      ],
      "metadata": {
        "id": "3g-4Xww1DYKn"
      }
    },
    {
      "cell_type": "code",
      "source": [
        "#Download the Model\n",
        "\n",
        "# from google.colab import files\n",
        "# files.download(\"salary_predict_model.pkl\")"
      ],
      "metadata": {
        "colab": {
          "base_uri": "https://localhost:8080/",
          "height": 17
        },
        "id": "aI_CeZ42CZqX",
        "outputId": "bfc97457-7775-4d04-f6b0-75624fe566cc"
      },
      "execution_count": null,
      "outputs": [
        {
          "output_type": "display_data",
          "data": {
            "text/plain": [
              "<IPython.core.display.Javascript object>"
            ],
            "application/javascript": [
              "\n",
              "    async function download(id, filename, size) {\n",
              "      if (!google.colab.kernel.accessAllowed) {\n",
              "        return;\n",
              "      }\n",
              "      const div = document.createElement('div');\n",
              "      const label = document.createElement('label');\n",
              "      label.textContent = `Downloading \"${filename}\": `;\n",
              "      div.appendChild(label);\n",
              "      const progress = document.createElement('progress');\n",
              "      progress.max = size;\n",
              "      div.appendChild(progress);\n",
              "      document.body.appendChild(div);\n",
              "\n",
              "      const buffers = [];\n",
              "      let downloaded = 0;\n",
              "\n",
              "      const channel = await google.colab.kernel.comms.open(id);\n",
              "      // Send a message to notify the kernel that we're ready.\n",
              "      channel.send({})\n",
              "\n",
              "      for await (const message of channel.messages) {\n",
              "        // Send a message to notify the kernel that we're ready.\n",
              "        channel.send({})\n",
              "        if (message.buffers) {\n",
              "          for (const buffer of message.buffers) {\n",
              "            buffers.push(buffer);\n",
              "            downloaded += buffer.byteLength;\n",
              "            progress.value = downloaded;\n",
              "          }\n",
              "        }\n",
              "      }\n",
              "      const blob = new Blob(buffers, {type: 'application/binary'});\n",
              "      const a = document.createElement('a');\n",
              "      a.href = window.URL.createObjectURL(blob);\n",
              "      a.download = filename;\n",
              "      div.appendChild(a);\n",
              "      a.click();\n",
              "      div.remove();\n",
              "    }\n",
              "  "
            ]
          },
          "metadata": {}
        },
        {
          "output_type": "display_data",
          "data": {
            "text/plain": [
              "<IPython.core.display.Javascript object>"
            ],
            "application/javascript": [
              "download(\"download_6c435ef9-f03e-4fad-9fc4-f6b06d72baf9\", \"salary_predict_model.pkl\", 880)"
            ]
          },
          "metadata": {}
        }
      ]
    },
    {
      "cell_type": "markdown",
      "source": [
        "# **Testing Model by User**"
      ],
      "metadata": {
        "id": "2qwkJS-0xSJO"
      }
    },
    {
      "cell_type": "markdown",
      "source": [
        "## **Loading the Model**"
      ],
      "metadata": {
        "id": "4mfuuO58xX2n"
      }
    },
    {
      "cell_type": "code",
      "source": [
        "modelW = joblib.load(\"salary_predict_model.pkl\")\n",
        "print(\"Model loaded successfully!\")\n",
        "\n",
        "print(f\"Loaded model type: {type(modelW)}\")"
      ],
      "metadata": {
        "colab": {
          "base_uri": "https://localhost:8080/"
        },
        "id": "IzQCVu5FxXK9",
        "outputId": "6bddf262-e784-4d45-9127-a454e12abaea"
      },
      "execution_count": null,
      "outputs": [
        {
          "output_type": "stream",
          "name": "stdout",
          "text": [
            "Model loaded successfully!\n",
            "Loaded model type: <class 'sklearn.linear_model._base.LinearRegression'>\n"
          ]
        }
      ]
    },
    {
      "cell_type": "markdown",
      "source": [
        "## **Predicting the Salary**"
      ],
      "metadata": {
        "id": "dueBvspnx0J9"
      }
    },
    {
      "cell_type": "markdown",
      "source": [
        "**Single Prediction:**"
      ],
      "metadata": {
        "id": "utIiQiizx9aN"
      }
    },
    {
      "cell_type": "code",
      "source": [
        "exp_data = [[5]]\n",
        "prediction_data = modelW.predict(exp_data)\n",
        "print(f\"For {exp_data[0][0]} years of Experience, the predicted salary is: {prediction_data[0]:.2f}\\n\\n\")"
      ],
      "metadata": {
        "colab": {
          "base_uri": "https://localhost:8080/"
        },
        "id": "NoOGdQZNx8Pt",
        "outputId": "f08e07bb-c193-45dc-b19f-9dbb7ff80a3b"
      },
      "execution_count": null,
      "outputs": [
        {
          "output_type": "stream",
          "name": "stdout",
          "text": [
            "For 5 years of Experience, the predicted salary is: 66823.15\n",
            "\n",
            "\n"
          ]
        },
        {
          "output_type": "stream",
          "name": "stderr",
          "text": [
            "/usr/local/lib/python3.10/dist-packages/sklearn/utils/validation.py:2739: UserWarning: X does not have valid feature names, but LinearRegression was fitted with feature names\n",
            "  warnings.warn(\n"
          ]
        }
      ]
    },
    {
      "cell_type": "markdown",
      "source": [
        "**Multiple Prediction:**"
      ],
      "metadata": {
        "id": "z6tOsEsqyxrE"
      }
    },
    {
      "cell_type": "code",
      "source": [
        "mul_exp_data = [[5], [10], [2]]\n",
        "prediction_mul_data = model.predict(mul_exp_data)\n",
        "\n",
        "print(\"Predictions for Salary:\\n\")\n",
        "for exp, salary in zip(mul_exp_data, prediction_mul_data):\n",
        "    print(f\"Year of Experience: {exp[0]}, Predicted Salary: {salary:.2f}\")\n",
        "\n",
        "print(\"\\nPrediction Ended!\\n\")"
      ],
      "metadata": {
        "colab": {
          "base_uri": "https://localhost:8080/"
        },
        "id": "LQTLkdupy2TU",
        "outputId": "d4b53f05-2697-488d-c94a-63f2436ff9b3"
      },
      "execution_count": null,
      "outputs": [
        {
          "output_type": "stream",
          "name": "stdout",
          "text": [
            "Predictions for Salary:\n",
            "\n",
            "Year of Experience: 5, Predicted Salary: 66823.15\n",
            "Year of Experience: 10, Predicted Salary: 100316.44\n",
            "Year of Experience: 2, Predicted Salary: 46727.18\n",
            "\n",
            "Prediction Ended!\n",
            "\n"
          ]
        },
        {
          "output_type": "stream",
          "name": "stderr",
          "text": [
            "/usr/local/lib/python3.10/dist-packages/sklearn/utils/validation.py:2739: UserWarning: X does not have valid feature names, but LinearRegression was fitted with feature names\n",
            "  warnings.warn(\n"
          ]
        }
      ]
    }
  ]
}